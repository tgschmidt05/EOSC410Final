{
 "cells": [
  {
   "cell_type": "code",
   "execution_count": 1,
   "metadata": {},
   "outputs": [],
   "source": [
    "from PIL import Image\n",
    "import imageio\n",
    "import numpy as np\n",
    "import matplotlib.pyplot as plt\n",
    "import pandas as pd\n",
    "import cv2\n",
    "from scipy import ndimage as ndi\n",
    "from skimage import feature\n",
    "from skimage.color import rgb2gray\n",
    "%matplotlib inline\n",
    "from skimage import io\n",
    "from pathlib import Path"
   ]
  },
  {
   "cell_type": "code",
   "execution_count": 2,
   "metadata": {},
   "outputs": [
    {
     "data": {
      "text/plain": [
       "1310"
      ]
     },
     "execution_count": 2,
     "metadata": {},
     "output_type": "execute_result"
    }
   ],
   "source": [
    "this_dir=Path.cwd()\n",
    "data_dir=Path('C://Users//Pearl//Desktop//Edumacation//EOSC 410//Final Project//cropped')\n",
    "all_files=list(data_dir.glob('*.jpg'))\n",
    "all_files= all_files +(list(data_dir.glob('*.png')))\n",
    "image_files=[str(i).split('\\\\')[-1] for i in all_files]\n",
    "len(image_files)\n"
   ]
  },
  {
   "cell_type": "code",
   "execution_count": 3,
   "metadata": {},
   "outputs": [
    {
     "ename": "NameError",
     "evalue": "name 'img' is not defined",
     "output_type": "error",
     "traceback": [
      "\u001b[1;31m---------------------------------------------------------------------------\u001b[0m",
      "\u001b[1;31mNameError\u001b[0m                                 Traceback (most recent call last)",
      "\u001b[1;32m<ipython-input-3-96c7c1c75875>\u001b[0m in \u001b[0;36m<module>\u001b[1;34m\u001b[0m\n\u001b[0;32m     25\u001b[0m \u001b[1;33m\u001b[0m\u001b[0m\n\u001b[0;32m     26\u001b[0m             \u001b[1;31m#create little local 3x3 box\u001b[0m\u001b[1;33m\u001b[0m\u001b[1;33m\u001b[0m\u001b[1;33m\u001b[0m\u001b[0m\n\u001b[1;32m---> 27\u001b[1;33m             \u001b[0mlocal_pixels\u001b[0m \u001b[1;33m=\u001b[0m \u001b[0mimg\u001b[0m\u001b[1;33m[\u001b[0m\u001b[0mrow\u001b[0m\u001b[1;33m-\u001b[0m\u001b[1;36m1\u001b[0m\u001b[1;33m:\u001b[0m\u001b[0mrow\u001b[0m\u001b[1;33m+\u001b[0m\u001b[1;36m2\u001b[0m\u001b[1;33m,\u001b[0m \u001b[0mcol\u001b[0m\u001b[1;33m-\u001b[0m\u001b[1;36m1\u001b[0m\u001b[1;33m:\u001b[0m\u001b[0mcol\u001b[0m\u001b[1;33m+\u001b[0m\u001b[1;36m2\u001b[0m\u001b[1;33m]\u001b[0m\u001b[1;33m\u001b[0m\u001b[1;33m\u001b[0m\u001b[0m\n\u001b[0m\u001b[0;32m     28\u001b[0m \u001b[1;33m\u001b[0m\u001b[0m\n\u001b[0;32m     29\u001b[0m             \u001b[1;31m#apply the vertical filter\u001b[0m\u001b[1;33m\u001b[0m\u001b[1;33m\u001b[0m\u001b[1;33m\u001b[0m\u001b[0m\n",
      "\u001b[1;31mNameError\u001b[0m: name 'img' is not defined"
     ]
    }
   ],
   "source": [
    "#Read\n",
    "\n",
    "for i in range(len(image_files)):\n",
    "    im =cv2.imread(image_files[i])\n",
    "    figure_size = 9\n",
    "    gray = cv2.cvtColor(im, cv2.COLOR_BGR2GRAY) #convert grayscale\n",
    "    gray_denoised = cv2.fastNlMeansDenoising(gray,10,10,7,21)\n",
    "    median_image =cv2.GaussianBlur(gray_denoised,(9,9),cv2.BORDER_DEFAULT)\n",
    "\n",
    "    #define the vertical filter\n",
    "    vertical_filter = [[-1,-2,-1], [0,0,0], [1,2,1]]\n",
    "\n",
    "    #define the horizontal filter\n",
    "    horizontal_filter = [[-1,0,1], [-2,0,2], [-1,0,1]]\n",
    "\n",
    "    #get the dimensions of the image\n",
    "    n,m = median_image.shape\n",
    "\n",
    "    #initialize the edges image\n",
    "    edges_img = median_image.copy()\n",
    "\n",
    "    #loop over all pixels in the image\n",
    "    for row in range(3, n-2):\n",
    "        for col in range(3, m-2):\n",
    "\n",
    "            #create little local 3x3 box\n",
    "            local_pixels = im[row-1:row+2, col-1:col+2]\n",
    "\n",
    "            #apply the vertical filter\n",
    "            vertical_transformed_pixels = vertical_filter*local_pixels\n",
    "            #remap the vertical score\n",
    "            vertical_score = vertical_transformed_pixels.sum()/4\n",
    "\n",
    "            #apply the horizontal filter\n",
    "            horizontal_transformed_pixels = horizontal_filter*local_pixels\n",
    "            #remap the horizontal score\n",
    "            horizontal_score = horizontal_transformed_pixels.sum()/4\n",
    "\n",
    "            #combine the horizontal and vertical scores into a total edge score\n",
    "            edge_score = (vertical_score**2 + horizontal_score**2)**.5\n",
    "\n",
    "            #insert this edge score into the edges image\n",
    "            edges_img[row, col] = edge_score\n",
    "\n",
    "    #remap the values in the 0-1 range in case they went out of bounds\n",
    "    edges_img = edges_img/edges_img.max()\n",
    "    filename= 'C://Users//Pearl//Desktop//Edumacation//EOSC 410//Final Project//sobel_long_method/'+'sobel_image_'+str(i)+'.png'\n",
    "    cv2.imwrite(filename,edges_img)"
   ]
  }
 ],
 "metadata": {
  "kernelspec": {
   "display_name": "Python 3",
   "language": "python",
   "name": "python3"
  },
  "language_info": {
   "codemirror_mode": {
    "name": "ipython",
    "version": 3
   },
   "file_extension": ".py",
   "mimetype": "text/x-python",
   "name": "python",
   "nbconvert_exporter": "python",
   "pygments_lexer": "ipython3",
   "version": "3.7.3"
  }
 },
 "nbformat": 4,
 "nbformat_minor": 2
}
