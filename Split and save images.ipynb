{
 "cells": [
  {
   "cell_type": "code",
   "execution_count": 1,
   "metadata": {},
   "outputs": [],
   "source": [
    "from PIL import Image\n",
    "import imageio\n",
    "import numpy as np\n",
    "import matplotlib.pyplot as plt\n",
    "import cv2\n",
    "from pathlib import Path"
   ]
  },
  {
   "cell_type": "code",
   "execution_count": 2,
   "metadata": {},
   "outputs": [
    {
     "data": {
      "text/plain": [
       "['blacksea_amo_2015008_lrg.jpg',\n",
       " 'Canada_tmo_2012318_lrg.jpg',\n",
       " 'labrador_vir_2020061_lrg.jpg',\n",
       " 'SeaofJapan_tmo_2014009_lrg.jpg',\n",
       " 'UnitedStates_tmo_2014007_lrg.jpg',\n",
       " 'uscloudstreet_tmo_2011024_lrg.jpg',\n",
       " 'snapshot (1).png',\n",
       " 'snapshot.png']"
      ]
     },
     "execution_count": 2,
     "metadata": {},
     "output_type": "execute_result"
    }
   ],
   "source": [
    "this_dir=Path.cwd()\n",
    "data_dir=Path('C://Users//Pearl//Desktop//Edumacation//EOSC 410//Final Project//Images')\n",
    "all_files=list(data_dir.glob('*.jpg'))\n",
    "all_files= all_files +(list(data_dir.glob('*.png')))\n",
    "image_files=[str(i).split('\\\\')[-1] for i in all_files]\n",
    "image_files"
   ]
  },
  {
   "cell_type": "code",
   "execution_count": 3,
   "metadata": {},
   "outputs": [],
   "source": [
    "def split_one_image(image_name,image_num):\n",
    "\n",
    "    im =cv2.imread(image_name)\n",
    "    im_height=im.shape[0]\n",
    "    im_width=im.shape[1]\n",
    "    H=500\n",
    "    W=500\n",
    "\n",
    "    remainderH = im_height%H\n",
    "    remainderW = im_width%W\n",
    "\n",
    "    crops=[]\n",
    "    for h in range(H,im_height,H):\n",
    "        for w in range(W,im_width,W):\n",
    "            crops.append([h,w])\n",
    "\n",
    "    if remainderH > 100:\n",
    "        cropsH=[]\n",
    "        for h in range(H,im_height,H):\n",
    "            for w in range(im_width-W,im_width,W):\n",
    "                crops.append([h,w])\n",
    "\n",
    "    if remainderW > 100:\n",
    "        cropsW=[]\n",
    "        for h in range(im_height-H,im_height,H):\n",
    "            for w in range(W,im_width,W):\n",
    "                crops.append([h,w])\n",
    "    for i in range(len(crops)):\n",
    "        endH=crops[i][0]\n",
    "        startH=endH-H\n",
    "        endW=crops[i][1]\n",
    "        startW=endW-W\n",
    "        img_cropped=im[startH:endH,startW:endW]\n",
    "        filename= 'C://Users//Pearl//Desktop//Edumacation//EOSC 410//Final Project//cropped'+'image_'+str(image_num)+'crop_'+str(i)+'.png'\n",
    "        cv2.imwrite(filename,img_cropped)\n",
    "    return "
   ]
  },
  {
   "cell_type": "code",
   "execution_count": 4,
   "metadata": {},
   "outputs": [
    {
     "name": "stdout",
     "output_type": "stream",
     "text": [
      "0\n",
      "<class 'numpy.ndarray'>\n",
      "1\n",
      "<class 'numpy.ndarray'>\n",
      "2\n",
      "<class 'numpy.ndarray'>\n",
      "3\n",
      "<class 'numpy.ndarray'>\n",
      "4\n",
      "<class 'numpy.ndarray'>\n",
      "5\n",
      "<class 'numpy.ndarray'>\n",
      "6\n",
      "<class 'numpy.ndarray'>\n",
      "7\n",
      "<class 'numpy.ndarray'>\n"
     ]
    }
   ],
   "source": [
    "for imnum in range(len(image_files)):\n",
    "    split_one_image(image_files[imnum],imnum)"
   ]
  },
  {
   "cell_type": "code",
   "execution_count": null,
   "metadata": {},
   "outputs": [],
   "source": []
  }
 ],
 "metadata": {
  "kernelspec": {
   "display_name": "Python 3",
   "language": "python",
   "name": "python3"
  },
  "language_info": {
   "codemirror_mode": {
    "name": "ipython",
    "version": 3
   },
   "file_extension": ".py",
   "mimetype": "text/x-python",
   "name": "python",
   "nbconvert_exporter": "python",
   "pygments_lexer": "ipython3",
   "version": "3.7.3"
  }
 },
 "nbformat": 4,
 "nbformat_minor": 2
}
