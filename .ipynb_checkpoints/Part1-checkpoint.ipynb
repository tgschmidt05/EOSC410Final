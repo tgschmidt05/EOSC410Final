{
 "cells": [
  {
   "cell_type": "code",
   "execution_count": 1,
   "metadata": {},
   "outputs": [],
   "source": [
    "from PIL import Image\n",
    "import imageio\n",
    "import numpy as np\n",
    "import matplotlib.pyplot as plt\n",
    "import pandas as pd\n",
    "import cv2\n",
    "from scipy import ndimage as ndi\n",
    "from skimage import feature\n",
    "from skimage.color import rgb2gray\n",
    "%matplotlib inline\n",
    "from skimage import io\n",
    "from pathlib import Path"
   ]
  },
  {
   "cell_type": "code",
   "execution_count": 2,
   "metadata": {},
   "outputs": [
    {
     "data": {
      "text/plain": [
       "1310"
      ]
     },
     "execution_count": 2,
     "metadata": {},
     "output_type": "execute_result"
    }
   ],
   "source": [
    "this_dir=Path.cwd()\n",
    "data_dir=Path('C://Users//Pearl//Desktop//Edumacation//EOSC 410//Final Project//cropped')\n",
    "all_files=list(data_dir.glob('*.jpg'))\n",
    "all_files= all_files +(list(data_dir.glob('*.png')))\n",
    "image_files=[str(i).split('\\\\')[-1] for i in all_files]\n",
    "len(image_files)\n"
   ]
  },
  {
   "cell_type": "code",
   "execution_count": 5,
   "metadata": {},
   "outputs": [
    {
     "name": "stdout",
     "output_type": "stream",
     "text": [
      "<class 'str'>\n"
     ]
    },
    {
     "ename": "error",
     "evalue": "OpenCV(4.2.0) C:\\projects\\opencv-python\\opencv\\modules\\imgproc\\src\\color.cpp:182: error: (-215:Assertion failed) !_src.empty() in function 'cv::cvtColor'\n",
     "output_type": "error",
     "traceback": [
      "\u001b[1;31m---------------------------------------------------------------------------\u001b[0m",
      "\u001b[1;31merror\u001b[0m                                     Traceback (most recent call last)",
      "\u001b[1;32m<ipython-input-5-6fd113a73290>\u001b[0m in \u001b[0;36m<module>\u001b[1;34m\u001b[0m\n\u001b[0;32m      5\u001b[0m     \u001b[0mfigure_size\u001b[0m \u001b[1;33m=\u001b[0m \u001b[1;36m9\u001b[0m\u001b[1;33m\u001b[0m\u001b[1;33m\u001b[0m\u001b[0m\n\u001b[0;32m      6\u001b[0m     \u001b[0mprint\u001b[0m\u001b[1;33m(\u001b[0m\u001b[0mtype\u001b[0m\u001b[1;33m(\u001b[0m\u001b[0mimage_files\u001b[0m\u001b[1;33m[\u001b[0m\u001b[0mi\u001b[0m\u001b[1;33m]\u001b[0m\u001b[1;33m)\u001b[0m\u001b[1;33m)\u001b[0m\u001b[1;33m\u001b[0m\u001b[1;33m\u001b[0m\u001b[0m\n\u001b[1;32m----> 7\u001b[1;33m     \u001b[0mgray\u001b[0m \u001b[1;33m=\u001b[0m \u001b[0mcv2\u001b[0m\u001b[1;33m.\u001b[0m\u001b[0mcvtColor\u001b[0m\u001b[1;33m(\u001b[0m\u001b[0mim\u001b[0m\u001b[1;33m,\u001b[0m \u001b[0mcv2\u001b[0m\u001b[1;33m.\u001b[0m\u001b[0mCOLOR_BGR2GRAY\u001b[0m\u001b[1;33m)\u001b[0m \u001b[1;31m#convert grayscale\u001b[0m\u001b[1;33m\u001b[0m\u001b[1;33m\u001b[0m\u001b[0m\n\u001b[0m\u001b[0;32m      8\u001b[0m \u001b[1;33m\u001b[0m\u001b[0m\n\u001b[0;32m      9\u001b[0m \u001b[1;33m\u001b[0m\u001b[0m\n",
      "\u001b[1;31merror\u001b[0m: OpenCV(4.2.0) C:\\projects\\opencv-python\\opencv\\modules\\imgproc\\src\\color.cpp:182: error: (-215:Assertion failed) !_src.empty() in function 'cv::cvtColor'\n"
     ]
    }
   ],
   "source": [
    "#Read\n",
    "\n",
    "for i in range(len(image_files)):\n",
    "    im =cv2.imread(image_files[i])\n",
    "    figure_size = 9\n",
    "    print(type(image_files[i]))\n",
    "    gray = cv2.cvtColor(im, cv2.COLOR_BGR2GRAY) #convert grayscale\n",
    "\n",
    "\n",
    "    # Denoising\n",
    "    gray_denoised = cv2.fastNlMeansDenoising(gray,10,10,7,21)\n",
    "\n",
    "    #Blur\n",
    "    median_image = cv2.medianBlur(gray_denoised, figure_size)\n",
    "\n",
    "    median_image = cv2.blur(gray_denoised, (figure_size, figure_size))\n",
    "\n",
    "    median_image =cv2.GaussianBlur(gray_denoised,(9,9),cv2.BORDER_DEFAULT,)\n",
    "\n",
    "\n",
    "    # convolute with proper kernels\n",
    "    laplacian = cv2.Laplacian(median_image,cv2.CV_64F)\n",
    "    sobelx = cv2.Sobel(median_image,cv2.CV_64F,1,0,ksize=17)  # x\n",
    "    sobely = cv2.Sobel(median_image,cv2.CV_64F,0,1,ksize=17)  # y\n",
    "    total_sobel=(sobelx**2+sobely**2)**0.5\n",
    "    resulting_sobel=median_image+total_sobel\n",
    "    filename= 'C://Users//Pearl//Desktop//Edumacation//EOSC 410//Final Project//sobel/'+'sobel_image_'+str(i)+'.png'\n",
    "    cv2.imwrite(filename,resulting_sobel)"
   ]
  }
 ],
 "metadata": {
  "kernelspec": {
   "display_name": "Python 3",
   "language": "python",
   "name": "python3"
  },
  "language_info": {
   "codemirror_mode": {
    "name": "ipython",
    "version": 3
   },
   "file_extension": ".py",
   "mimetype": "text/x-python",
   "name": "python",
   "nbconvert_exporter": "python",
   "pygments_lexer": "ipython3",
   "version": "3.7.3"
  }
 },
 "nbformat": 4,
 "nbformat_minor": 2
}
